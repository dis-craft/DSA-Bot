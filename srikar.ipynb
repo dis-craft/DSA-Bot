{
  "nbformat": 4,
  "nbformat_minor": 0,
  "metadata": {
    "colab": {
      "provenance": [],
      "include_colab_link": true
    },
    "kernelspec": {
      "name": "python3",
      "display_name": "Python 3"
    },
    "language_info": {
      "name": "python"
    }
  },
  "cells": [
    {
      "cell_type": "markdown",
      "metadata": {
        "id": "view-in-github",
        "colab_type": "text"
      },
      "source": [
        "<a href=\"https://colab.research.google.com/github/dis-craft/DSA-Bot/blob/main/srikar.ipynb\" target=\"_parent\"><img src=\"https://colab.research.google.com/assets/colab-badge.svg\" alt=\"Open In Colab\"/></a>"
      ]
    },
    {
      "cell_type": "code",
      "execution_count": null,
      "metadata": {
        "colab": {
          "base_uri": "https://localhost:8080/"
        },
        "id": "Joj9zh4V47O3",
        "outputId": "7265efca-3932-4e62-f90a-3d1cadceaf2b"
      },
      "outputs": [
        {
          "output_type": "stream",
          "name": "stdout",
          "text": [
            "Enter a number-5\n",
            "The given number is negative\n"
          ]
        }
      ],
      "source": [
        "a=int(input(\"Enter a number\"))\n",
        "if a>0:\n",
        "  print(\"The given number is positive\")\n",
        "\n",
        "else :\n",
        "  print(\"The given number is negative\")"
      ]
    },
    {
      "cell_type": "code",
      "source": [
        "percent = int(input(\"Enter your percentage\"))\n",
        "if percent>=90:\n",
        "  print(\"DISTINCTION\")\n",
        "elif percent>=80 and percent<90:\n",
        "  print(\"FIRST CLASS\")\n",
        "elif percent>=70 and percent<80:\n",
        "  print(\"SECOND CLASS\")\n",
        "elif percent>=60 and percent<70:\n",
        "  print(\"THIRD CLASS\")"
      ],
      "metadata": {
        "colab": {
          "base_uri": "https://localhost:8080/"
        },
        "id": "U3ZbYtXR8P1i",
        "outputId": "6f3bd983-524c-49dd-cf2f-90a65d590a3a"
      },
      "execution_count": null,
      "outputs": [
        {
          "output_type": "stream",
          "name": "stdout",
          "text": [
            "Enter your percentage74\n",
            "SECOND CLASS\n"
          ]
        }
      ]
    },
    {
      "cell_type": "code",
      "source": [
        "n=int(input(\"Enter a number\"))\n",
        "if n%7 ==0:\n",
        "  print(\"The number is divisible by 7\")\n",
        "else:\n",
        "  print(\"The number is not divisible by 7\")"
      ],
      "metadata": {
        "colab": {
          "base_uri": "https://localhost:8080/"
        },
        "id": "zsY_hibt-NlV",
        "outputId": "9a10ef73-f59c-4067-d9e2-569559c18095"
      },
      "execution_count": null,
      "outputs": [
        {
          "output_type": "stream",
          "name": "stdout",
          "text": [
            "Enter a number21\n",
            "The number is divisible by 7\n"
          ]
        }
      ]
    },
    {
      "cell_type": "code",
      "source": [
        "def menu():\n",
        "  print(\"1. Celsius to f\")\n",
        "  print(\"2. f to Celsius\")\n",
        "\n",
        "def ctf():\n",
        "  c = float(input(\"Enter the value in celsius: \"))\n",
        "  f=c*(9/5)+32\n",
        "  print(\"Temp in f is : \", f)\n",
        "\n",
        "def ftc():\n",
        "  f = float(input(\"Enter the value in fahrenheit: \"))\n",
        "  c=(f-32)*(5/9)\n",
        "  print(\"Temp in c is : \", c)\n",
        "menu()\n",
        "choice = int(input(\"select one or two: \"))\n",
        "if (choice==1):\n",
        "  ctf()\n",
        "elif (choice==2):\n",
        "  ftc()\n",
        "else :\n",
        "  print(\"INVALID CHOICE\")\n",
        "\n",
        "\n",
        "\n"
      ],
      "metadata": {
        "colab": {
          "base_uri": "https://localhost:8080/"
        },
        "id": "96vSMc4S-jyC",
        "outputId": "8f3b6ff5-2e7f-4690-8f43-178e28f6a94d"
      },
      "execution_count": null,
      "outputs": [
        {
          "output_type": "stream",
          "name": "stdout",
          "text": [
            "1. Celsius to f\n",
            "2. f to Celsius\n",
            "select one or two: 1\n",
            "Enter the value in celsius: 37\n",
            "Temp in f is :  98.60000000000001\n"
          ]
        }
      ]
    },
    {
      "cell_type": "code",
      "source": [
        "a, b = 0,1\n",
        "n = int(input(\"Enter value of n\"))\n",
        "while a<n:\n",
        "  a, b=b, a+b\n",
        "  print(a)"
      ],
      "metadata": {
        "colab": {
          "base_uri": "https://localhost:8080/"
        },
        "id": "2ywQiEmwEnUL",
        "outputId": "a0d322e5-1f3e-4029-e29f-f7ccf71a50d2"
      },
      "execution_count": null,
      "outputs": [
        {
          "output_type": "stream",
          "name": "stdout",
          "text": [
            "Enter value of n11\n",
            "1\n",
            "1\n",
            "2\n",
            "3\n",
            "5\n",
            "8\n",
            "13\n"
          ]
        }
      ]
    },
    {
      "cell_type": "code",
      "source": [],
      "metadata": {
        "id": "TtyS9IDEGkcy"
      },
      "execution_count": null,
      "outputs": []
    },
    {
      "cell_type": "code",
      "source": [
        "n=int(input(\"Enter the number: \"))\n",
        "i=1\n",
        "while i<11:\n",
        "  print(n,'x', i ,'=' ,n*i)\n",
        "  i=i+1"
      ],
      "metadata": {
        "colab": {
          "base_uri": "https://localhost:8080/"
        },
        "id": "3fLKWeP8FYhH",
        "outputId": "ac9de647-75c3-4db6-f473-4dff51d4d6bb"
      },
      "execution_count": null,
      "outputs": [
        {
          "output_type": "stream",
          "name": "stdout",
          "text": [
            "Enter the number: 45\n",
            "45 x 1 = 45\n",
            "45 x 2 = 90\n",
            "45 x 3 = 135\n",
            "45 x 4 = 180\n",
            "45 x 5 = 225\n",
            "45 x 6 = 270\n",
            "45 x 7 = 315\n",
            "45 x 8 = 360\n",
            "45 x 9 = 405\n",
            "45 x 10 = 450\n"
          ]
        }
      ]
    },
    {
      "cell_type": "code",
      "source": [
        "for i in range(101,130,2):\n",
        "  print(i)"
      ],
      "metadata": {
        "colab": {
          "base_uri": "https://localhost:8080/"
        },
        "id": "qbjeUCdnHNx3",
        "outputId": "e6ef36ab-7247-473c-bf12-34e5e1c00755"
      },
      "execution_count": null,
      "outputs": [
        {
          "output_type": "stream",
          "name": "stdout",
          "text": [
            "101\n",
            "103\n",
            "105\n",
            "107\n",
            "109\n",
            "111\n",
            "113\n",
            "115\n",
            "117\n",
            "119\n",
            "121\n",
            "123\n",
            "125\n",
            "127\n",
            "129\n"
          ]
        }
      ]
    },
    {
      "cell_type": "code",
      "source": [
        "sum=0\n",
        "n = int(input(\"Enter a value\"))\n",
        "for i in range(1,n+1):\n",
        "  sum=sum+i\n",
        "  print(sum)"
      ],
      "metadata": {
        "colab": {
          "base_uri": "https://localhost:8080/"
        },
        "id": "Gk3_Il61H8ss",
        "outputId": "57bda7bd-272a-476c-9135-9ea7e67758b5"
      },
      "execution_count": null,
      "outputs": [
        {
          "output_type": "stream",
          "name": "stdout",
          "text": [
            "Enter a value10\n",
            "1\n",
            "3\n",
            "6\n",
            "10\n",
            "15\n",
            "21\n",
            "28\n",
            "36\n",
            "45\n",
            "55\n"
          ]
        }
      ]
    },
    {
      "cell_type": "code",
      "source": [
        "fruits =['apple ', 'banana ','cherry ','orange ']\n",
        "for i in fruits:\n",
        "  print(i)"
      ],
      "metadata": {
        "colab": {
          "base_uri": "https://localhost:8080/"
        },
        "id": "1UdMW9pQJEpq",
        "outputId": "56112f59-2a7d-4b7d-a8ee-6f7bfb8200d7"
      },
      "execution_count": null,
      "outputs": [
        {
          "output_type": "stream",
          "name": "stdout",
          "text": [
            "apple \n",
            "banana \n",
            "cherry \n",
            "orange \n"
          ]
        }
      ]
    },
    {
      "cell_type": "code",
      "source": [
        "# prompt: 2. Check the given number is prime or not.\n",
        "\n",
        "def is_prime(n):\n",
        "  \"\"\"\n",
        "  Checks if a given number is prime.\n",
        "\n",
        "  Args:\n",
        "    n: The number to check.\n",
        "\n",
        "  Returns:\n",
        "    True if the number is prime, False otherwise.\n",
        "  \"\"\"\n",
        "  if n <= 1:\n",
        "    return False\n",
        "  for i in range(2, int(n**0.5) + 1):\n",
        "    if n % i == 0:\n",
        "      return False\n",
        "  return True\n",
        "\n",
        "# Get input from the user\n",
        "num = int(input(\"Enter a number: \"))\n",
        "\n",
        "# Check if the number is prime and print the result\n",
        "if is_prime(num):\n",
        "  print(num, \"is a prime number\")\n",
        "else:\n",
        "  print(num, \"is not a prime number\")"
      ],
      "metadata": {
        "colab": {
          "base_uri": "https://localhost:8080/"
        },
        "id": "F8X6nCKfKOy2",
        "outputId": "c36ab2fb-be13-4c99-faf3-c630043bb47b"
      },
      "execution_count": null,
      "outputs": [
        {
          "output_type": "stream",
          "name": "stdout",
          "text": [
            "Enter a number: 21\n",
            "21 is not a prime number\n"
          ]
        }
      ]
    },
    {
      "cell_type": "code",
      "source": [
        "def find_factors(number):\n",
        "    factors = []\n",
        "    for i in range(1, number + 1):\n",
        "        if number % i == 0:\n",
        "            factors.append(i)\n",
        "    return factors\n",
        "\n",
        "num = int(input(\"Enter a number: \"))\n",
        "\n",
        "factors = find_factors(num)\n",
        "print(factors)\n",
        "\n",
        "if len(factors) == 2:\n",
        "    print(\"The number is prime\")\n",
        "else:\n",
        "    print(\"The number is not prime\")\n",
        "    for i in factors:\n",
        "        print(\"The factors of\", num, \"are:\", i)\n"
      ],
      "metadata": {
        "colab": {
          "base_uri": "https://localhost:8080/"
        },
        "id": "mlR1qKRONvs6",
        "outputId": "95e7c163-af09-40b0-e205-a9a994c364ee"
      },
      "execution_count": null,
      "outputs": [
        {
          "output_type": "stream",
          "name": "stdout",
          "text": [
            "Enter a number: 19\n",
            "[1, 19]\n",
            "The number is prime\n"
          ]
        }
      ]
    }
  ]
}